{
    "metadata": {
        "kernelspec": {
            "name": "powershell",
            "display_name": "PowerShell"
        },
        "language_info": {
            "name": "powershell",
            "codemirror_mode": "shell",
            "mimetype": "text/x-sh",
            "file_extension": ".ps1"
        }
    },
    "nbformat_minor": 2,
    "nbformat": 4,
    "cells": [
        {
            "cell_type": "markdown",
            "source": [
                "# Jupyter Notebooks And Kernel Context\r\n",
                "\r\n",
                "When I was first introduced to the concept of a notebook that could both document and execute code at the same time, I was intrigued. Seeing it in action and then trying it out for myself, the ability to create a runbook or a demo through this functionality is amazing.\r\n",
                "\r\n",
                "Let's see it in action. I'm using Azure Data Studio. With that I can add kernels for SQL (PosgreSQL or T-SQL), Spark (assorted flavors), Python or PowerShell. For our purposes, I'm going to start with PowerShell and I'm going to work with Docker Desktop. You'd need to have both these to run the following code.\r\n",
                "\r\n",
                "To start with, let's see what containers I have and which are running:"
            ],
            "metadata": {
                "azdata_cell_guid": "e899bf05-06cc-4a78-86e7-f74dbc15bc03"
            }
        },
        {
            "cell_type": "code",
            "source": [
                "docker ps -a"
            ],
            "metadata": {
                "azdata_cell_guid": "4213e863-0e95-4597-ac4d-743fa5713605"
            },
            "outputs": [
                {
                    "name": "stdout",
                    "text": "CONTAINER ID        IMAGE                                        COMMAND                  CREATED              STATUS                     PORTS                    NAMES\n2ea37aa6c095        mcr.microsoft.com/mssql/server:2019-latest   \"/opt/mssql/bin/perm…\"   31 seconds ago       Created                                             Test2\n69ea75f550b8        mcr.microsoft.com/mssql/server:2019-latest   \"/opt/mssql/bin/perm…\"   About a minute ago   Up About a minute          0.0.0.0:1460->1433/tcp   Test\n35f9063078cc        mcr.microsoft.com/mssql/server:2019-latest   \"/opt/mssql/bin/perm…\"   3 minutes ago        Up 3 minutes               0.0.0.0:1450->1433/tcp   ContextTest\n4c65d0f2a8aa        mcr.microsoft.com/mssql/server:2019-latest   \"/opt/mssql/bin/perm…\"   2 weeks ago          Up 33 minutes              0.0.0.0:1433->1433/tcp   TestInstance\nd5714af8c427        mcr.microsoft.com/mssql/server:2019-latest   \"/opt/mssql/bin/perm…\"   3 weeks ago          Exited (1) 3 weeks ago                              Demo19New\n13151561e133        mcr.microsoft.com/mssql/server:2017-latest   \"/opt/mssql/bin/nonr…\"   3 weeks ago          Exited (255) 2 weeks ago   0.0.0.0:1450->1433/tcp   Demo17vol\n",
                    "output_type": "stream"
                }
            ],
            "execution_count": 8
        },
        {
            "cell_type": "markdown",
            "source": [
                "I can see that I've got a container ready, but it's not running, so I'll start it:"
            ],
            "metadata": {
                "azdata_cell_guid": "99a8d48b-a804-4115-86b4-8bc734462456"
            }
        },
        {
            "cell_type": "code",
            "source": [
                "docker start TestInstance"
            ],
            "metadata": {
                "azdata_cell_guid": "89388f05-86d3-4c86-9f2a-e88aa3a10524"
            },
            "outputs": [
                {
                    "name": "stdout",
                    "text": "TestInstance\n",
                    "output_type": "stream"
                }
            ],
            "execution_count": 3
        },
        {
            "cell_type": "markdown",
            "source": [
                "All very straight forward. Now, just to validate that everything is up, I'm going to go ahead and run some T-SQL code:"
            ],
            "metadata": {
                "azdata_cell_guid": "453084c1-6902-4603-b081-e0cd82788b97"
            }
        },
        {
            "cell_type": "code",
            "source": [
                "SELECT d.name\r\n",
                "FROM sys.databases AS d;"
            ],
            "metadata": {
                "azdata_cell_guid": "3b7ff4c9-ad13-4430-931e-968dd3174ac1"
            },
            "outputs": [
                {
                    "output_type": "display_data",
                    "data": {
                        "text/html": "(5 rows affected)"
                    },
                    "metadata": {}
                },
                {
                    "output_type": "display_data",
                    "data": {
                        "text/html": "Total execution time: 00:00:00.236"
                    },
                    "metadata": {}
                },
                {
                    "output_type": "execute_result",
                    "metadata": {},
                    "execution_count": 1,
                    "data": {
                        "application/vnd.dataresource+json": {
                            "schema": {
                                "fields": [
                                    {
                                        "name": "name"
                                    }
                                ]
                            },
                            "data": [
                                {
                                    "0": "master"
                                },
                                {
                                    "0": "tempdb"
                                },
                                {
                                    "0": "model"
                                },
                                {
                                    "0": "msdb"
                                },
                                {
                                    "0": "AdventureWorks"
                                }
                            ]
                        },
                        "text/html": "<table><tr><th>name</th></tr><tr><td>master</td></tr><tr><td>tempdb</td></tr><tr><td>model</td></tr><tr><td>msdb</td></tr><tr><td>AdventureWorks</td></tr></table>"
                    }
                }
            ],
            "execution_count": 1
        },
        {
            "cell_type": "markdown",
            "source": [
                "Now here is where things get weird. If I add that code box above and set the Kernal to SQL, I can execute my query and get results. Makes sense right?\r\n",
                "\r\n",
                "However, what you'll notice is that all the other code boxes now think they're SQL too. What's more, they can ALL only have one connection at a time. \r\n",
                "\r\n",
                "One could argue that this is no big deal. You just have to swap the kernel through a mouse click, or maybe two or three to swap the kernel and select a connection. However, there's more to it than just a couple of extra mouse clicks to run the code.\r\n",
                "\r\n",
                "## Kernel Context Switching\r\n",
                "\r\n",
                "Why might this be a problem? Well, let's look at some more PowerShell code. What if I want to be a bit more programmatic in how I deal with my code. I'm going to switch the Kernel to PowerShell and leave it there for a bit. Let's set some variables and use them:"
            ],
            "metadata": {
                "azdata_cell_guid": "6644b63d-98af-4967-be72-ddc7337b4e6b"
            }
        },
        {
            "cell_type": "code",
            "source": [
                "$containerName = 'ContextTest2'\r\n",
                "$portmap = '1450:1433'\r\n",
                "$container = 'mcr.microsoft.com/mssql/server:2019-latest'"
            ],
            "metadata": {
                "azdata_cell_guid": "5fbfe61b-3747-42e7-b966-67db2115313e"
            },
            "outputs": [
{
    "name": "stdout",
    "text": "",
    "output_type": "stream"
}
],
            "execution_count": 13
        },
        {
            "cell_type": "markdown",
            "source": [
                "I've set the values for the variables, now I can consume them:"
            ],
            "metadata": {
                "azdata_cell_guid": "a7589fae-5670-4688-aa32-b2a56f6aab2a"
            }
        },
        {
            "cell_type": "code",
            "source": [
                "docker run `\r\n",
                "    --name $containerName `\r\n",
                "    -p $portmap `\r\n",
                "    -e \"ACCEPT_EULA=Y\" `\r\n",
                "    -e 'SA_PASSWORD=$cthulhu1988' `\r\n",
                "    -v C:\\Docker\\SQL:/bu `\n",
                "    -d $container"
            ],
            "metadata": {
                "azdata_cell_guid": "59a0735a-d829-4b6b-9982-0bc2d9464ada",
                "tags": []
            },
            "outputs": [
{
    "name": "stdout",
    "text": "",
    "output_type": "stream"
}
],
            "execution_count": 14
        }
    ]
}