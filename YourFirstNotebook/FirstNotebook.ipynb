{
    "metadata": {
        "kernelspec": {
            "name": "SQL",
            "display_name": "SQL",
            "language": "sql"
        },
        "language_info": {
            "name": "sql",
            "version": ""
        }
    },
    "nbformat_minor": 2,
    "nbformat": 4,
    "cells": [
        {
            "cell_type": "markdown",
            "source": [
                "## Adding Text For Our First Notebook\r\n",
                "\r\n",
                "We can type more text and use markdown commands\r\n",
                "\r\n",
                "For my first code, I need to create a database:"
            ],
            "metadata": {
                "azdata_cell_guid": "66379414-bec8-49c0-9f3f-0beacedaea48"
            }
        },
        {
            "cell_type": "code",
            "source": [
                "CREATE DATABASE LearnJupyter;"
            ],
            "metadata": {
                "azdata_cell_guid": "cdeb82cf-c000-4bb1-a5a2-1d24d2412b26"
            },
            "outputs": [],
            "execution_count": 1
        },
        {
            "cell_type": "markdown",
            "source": [
                "Next, let's create a table and add some data:"
            ],
            "metadata": {
                "azdata_cell_guid": "a5d6cf3b-c696-4acb-8f2e-233c9d47340f"
            }
        },
        {
            "cell_type": "code",
            "source": [
                "USE LearnJupyter;\r\n",
                "GO\r\n",
                "\r\n",
                "CREATE TABLE dbo.DBPlanList\r\n",
                "(dbid BIGINT NOT NULL,\r\n",
                "objectid BIGINT NULL);\r\n",
                "GO\r\n",
                "\r\n",
                "INSERT INTO dbo.DBPlanList\r\n",
                "(dbid,\r\n",
                "objectid)\r\n",
                "SELECT deqp.dbid,\r\n",
                "deqp.objectid \r\n",
                "FROM sys.dm_exec_query_stats AS deqs\r\n",
                "CROSS APPLY sys.dm_exec_query_plan(deqs.plan_handle) as deqp;"
            ],
            "metadata": {
                "azdata_cell_guid": "1c52c1ab-d904-4493-bca2-a91dbc7a400f"
            },
            "outputs": [],
            "execution_count": 2
        },
        {
            "cell_type": "markdown",
            "source": [
                "Finally, let's see the results of our data so that we can save them with this notebook:"
            ],
            "metadata": {
                "azdata_cell_guid": "a0c893a5-eb0b-41ba-9048-f1b3bd6beb9e"
            }
        },
        {
            "cell_type": "code",
            "source": [
                "SELECT dbid,\n",
                "objectid\n",
                "FROM dbo.DBPlanList\n",
                "WHERE dbid = db_id('LearnJupyter');"
            ],
            "metadata": {
                "azdata_cell_guid": "991f906a-5260-409f-8fcb-9b024dfeb239"
            },
            "outputs": [],
            "execution_count": 3
        },
        {
            "cell_type": "markdown",
            "source": [
                "Optionally, toss the database when done with it:"
            ],
            "metadata": {
                "azdata_cell_guid": "cfa099a2-21b9-4fa4-8f3b-fde026f073aa"
            }
        },
        {
            "cell_type": "code",
            "source": [
                "--Remove the comments if you want\r\n",
                "--USE master;\r\n",
                "--GO\r\n",
                "--DROP DATABASE LearnJupyter;\r\n",
                ""
            ],
            "metadata": {
                "azdata_cell_guid": "9ac0c595-c939-4949-8e68-9e5dcee8324f"
            },
            "outputs": [],
            "execution_count": 4
        }
    ]
}