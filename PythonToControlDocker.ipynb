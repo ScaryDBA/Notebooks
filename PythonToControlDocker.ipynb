{
    "metadata": {
        "kernelspec": {
            "name": "SQL",
            "display_name": "SQL",
            "language": "sql"
        },
        "language_info": {
            "name": "sql",
            "version": ""
        }
    },
    "nbformat_minor": 2,
    "nbformat": 4,
    "cells": [
        {
            "cell_type": "markdown",
            "source": "# Running Python Within an Azure Data Studio Notebook To Control Docker\r\n\r\nOut of the box, you won't have Python available within your notebooks. First, you'll have to install that\r\n\r\nAfter you have Python available, you need to install the docker module. To do this, in a \"Code\" section of the notebook that is set to the kernal \"Python 3\", you'll want to use the \"Install Packages\" button. This opens a powershell terminal, which will prompt you:\r\n\r\n>> --------------------------------------------------------------------------------\r\n>> This is the sandboxed instance of python used by Jupyter server.\r\n>> To install packages used by the python kernel use '.\\python.exe -m pip install'\r\n>> --------------------------------------------------------------------------------\r\n\r\nThe command then to install docker would be:\r\n\r\n.\\python.exe -m pip install docker\r\n\r\nThis will then install the docker module within the Jupyter execution space (which is seperate from any installation of Python you have on the system)",
            "metadata": {}
        }
    ]
}